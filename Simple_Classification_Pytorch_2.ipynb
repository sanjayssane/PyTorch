{
 "cells": [
  {
   "cell_type": "code",
   "execution_count": 1,
   "metadata": {
    "executionInfo": {
     "elapsed": 5041,
     "status": "ok",
     "timestamp": 1683179469307,
     "user": {
      "displayName": "Sanjay Sane",
      "userId": "07643709861745318184"
     },
     "user_tz": -330
    },
    "id": "vkYFU7wXDtuO"
   },
   "outputs": [],
   "source": [
    "import torch\n",
    "import pandas as pd\n",
    "import numpy as np\n",
    "import torch.nn as nn\n",
    "from sklearn.model_selection import train_test_split \n",
    "from sklearn.metrics import accuracy_score, log_loss\n",
    "from sklearn.preprocessing import MinMaxScaler"
   ]
  },
  {
   "cell_type": "code",
   "execution_count": 2,
   "metadata": {
    "colab": {
     "base_uri": "https://localhost:8080/",
     "height": 250
    },
    "executionInfo": {
     "elapsed": 1275,
     "status": "ok",
     "timestamp": 1683179500202,
     "user": {
      "displayName": "Sanjay Sane",
      "userId": "07643709861745318184"
     },
     "user_tz": -330
    },
    "id": "S2EmwO2sDtuV",
    "outputId": "d8bb0752-9828-438f-abf3-4d7663bf8c18"
   },
   "outputs": [
    {
     "data": {
      "text/html": [
       "<div>\n",
       "<style scoped>\n",
       "    .dataframe tbody tr th:only-of-type {\n",
       "        vertical-align: middle;\n",
       "    }\n",
       "\n",
       "    .dataframe tbody tr th {\n",
       "        vertical-align: top;\n",
       "    }\n",
       "\n",
       "    .dataframe thead th {\n",
       "        text-align: right;\n",
       "    }\n",
       "</style>\n",
       "<table border=\"1\" class=\"dataframe\">\n",
       "  <thead>\n",
       "    <tr style=\"text-align: right;\">\n",
       "      <th></th>\n",
       "      <th>Code</th>\n",
       "      <th>Clump</th>\n",
       "      <th>UniCell_Size</th>\n",
       "      <th>Uni_CellShape</th>\n",
       "      <th>MargAdh</th>\n",
       "      <th>SEpith</th>\n",
       "      <th>BareN</th>\n",
       "      <th>BChromatin</th>\n",
       "      <th>NoemN</th>\n",
       "      <th>Mitoses</th>\n",
       "      <th>Class_Malignant</th>\n",
       "    </tr>\n",
       "  </thead>\n",
       "  <tbody>\n",
       "    <tr>\n",
       "      <th>0</th>\n",
       "      <td>61634</td>\n",
       "      <td>5</td>\n",
       "      <td>4</td>\n",
       "      <td>3</td>\n",
       "      <td>1</td>\n",
       "      <td>2</td>\n",
       "      <td>2</td>\n",
       "      <td>2</td>\n",
       "      <td>3</td>\n",
       "      <td>1</td>\n",
       "      <td>0</td>\n",
       "    </tr>\n",
       "    <tr>\n",
       "      <th>1</th>\n",
       "      <td>63375</td>\n",
       "      <td>9</td>\n",
       "      <td>1</td>\n",
       "      <td>2</td>\n",
       "      <td>6</td>\n",
       "      <td>4</td>\n",
       "      <td>10</td>\n",
       "      <td>7</td>\n",
       "      <td>7</td>\n",
       "      <td>2</td>\n",
       "      <td>1</td>\n",
       "    </tr>\n",
       "    <tr>\n",
       "      <th>2</th>\n",
       "      <td>76389</td>\n",
       "      <td>10</td>\n",
       "      <td>4</td>\n",
       "      <td>7</td>\n",
       "      <td>2</td>\n",
       "      <td>2</td>\n",
       "      <td>8</td>\n",
       "      <td>6</td>\n",
       "      <td>1</td>\n",
       "      <td>1</td>\n",
       "      <td>1</td>\n",
       "    </tr>\n",
       "    <tr>\n",
       "      <th>3</th>\n",
       "      <td>95719</td>\n",
       "      <td>6</td>\n",
       "      <td>10</td>\n",
       "      <td>10</td>\n",
       "      <td>10</td>\n",
       "      <td>8</td>\n",
       "      <td>10</td>\n",
       "      <td>7</td>\n",
       "      <td>10</td>\n",
       "      <td>7</td>\n",
       "      <td>1</td>\n",
       "    </tr>\n",
       "    <tr>\n",
       "      <th>4</th>\n",
       "      <td>128059</td>\n",
       "      <td>1</td>\n",
       "      <td>1</td>\n",
       "      <td>1</td>\n",
       "      <td>1</td>\n",
       "      <td>2</td>\n",
       "      <td>5</td>\n",
       "      <td>5</td>\n",
       "      <td>1</td>\n",
       "      <td>1</td>\n",
       "      <td>0</td>\n",
       "    </tr>\n",
       "  </tbody>\n",
       "</table>\n",
       "</div>"
      ],
      "text/plain": [
       "     Code  Clump  UniCell_Size  Uni_CellShape  MargAdh  SEpith  BareN  \\\n",
       "0   61634      5             4              3        1       2      2   \n",
       "1   63375      9             1              2        6       4     10   \n",
       "2   76389     10             4              7        2       2      8   \n",
       "3   95719      6            10             10       10       8     10   \n",
       "4  128059      1             1              1        1       2      5   \n",
       "\n",
       "   BChromatin  NoemN  Mitoses  Class_Malignant  \n",
       "0           2      3        1                0  \n",
       "1           7      7        2                1  \n",
       "2           6      1        1                1  \n",
       "3           7     10        7                1  \n",
       "4           5      1        1                0  "
      ]
     },
     "execution_count": 2,
     "metadata": {},
     "output_type": "execute_result"
    }
   ],
   "source": [
    "cancer = pd.read_csv(\"C:/Training/Academy/Statistics (Python)/Cases/Wisconsin/BreastCancer.csv\")\n",
    "dum_cancer = pd.get_dummies(cancer,drop_first=True)\n",
    "dum_cancer.head()"
   ]
  },
  {
   "cell_type": "code",
   "execution_count": 3,
   "metadata": {
    "executionInfo": {
     "elapsed": 1285,
     "status": "ok",
     "timestamp": 1683179502308,
     "user": {
      "displayName": "Sanjay Sane",
      "userId": "07643709861745318184"
     },
     "user_tz": -330
    },
    "id": "EGEz_Td9DtuX"
   },
   "outputs": [],
   "source": [
    "X = dum_cancer.iloc[:,1:-1]\n",
    "\n",
    "scaler = MinMaxScaler()\n",
    "\n",
    "y = dum_cancer.iloc[:,-1].values\n",
    "X_train, X_test, y_train, y_test = train_test_split(X, y, test_size = 0.3, \n",
    "                                                    random_state=23,stratify=y)\n",
    "X_scl_trn = scaler.fit_transform(X_train) \n",
    "X_scl_tst = scaler.transform(X_test) \n"
   ]
  },
  {
   "cell_type": "code",
   "execution_count": 4,
   "metadata": {
    "colab": {
     "base_uri": "https://localhost:8080/"
    },
    "executionInfo": {
     "elapsed": 3,
     "status": "ok",
     "timestamp": 1683180139474,
     "user": {
      "displayName": "Sanjay Sane",
      "userId": "07643709861745318184"
     },
     "user_tz": -330
    },
    "id": "VxWSobXXDtuY",
    "outputId": "2362778d-49d1-434a-a5f2-9827f9fdc86c"
   },
   "outputs": [
    {
     "name": "stdout",
     "output_type": "stream",
     "text": [
      "torch.Size([489, 9])\n",
      "torch.Size([489])\n"
     ]
    }
   ],
   "source": [
    "X_torch = torch.from_numpy(X_scl_trn)\n",
    "y_torch = torch.from_numpy(y_train)\n",
    "print(X_torch.size())\n",
    "print(y_torch.size())"
   ]
  },
  {
   "cell_type": "code",
   "execution_count": 5,
   "metadata": {
    "colab": {
     "base_uri": "https://localhost:8080/"
    },
    "executionInfo": {
     "elapsed": 2,
     "status": "ok",
     "timestamp": 1683179508131,
     "user": {
      "displayName": "Sanjay Sane",
      "userId": "07643709861745318184"
     },
     "user_tz": -330
    },
    "id": "PH1DSCQy-EXU",
    "outputId": "dee3d4a3-e0b5-4116-fad0-2c1765b92927"
   },
   "outputs": [
    {
     "data": {
      "text/plain": [
       "torch.Tensor"
      ]
     },
     "execution_count": 5,
     "metadata": {},
     "output_type": "execute_result"
    }
   ],
   "source": [
    "type(X_torch)"
   ]
  },
  {
   "cell_type": "code",
   "execution_count": 6,
   "metadata": {
    "colab": {
     "base_uri": "https://localhost:8080/"
    },
    "executionInfo": {
     "elapsed": 6,
     "status": "ok",
     "timestamp": 1683179625180,
     "user": {
      "displayName": "Sanjay Sane",
      "userId": "07643709861745318184"
     },
     "user_tz": -330
    },
    "id": "ptj_BzbAUptu",
    "outputId": "74172e39-52ae-43c9-84c9-260664940dc7"
   },
   "outputs": [
    {
     "data": {
      "text/plain": [
       "9"
      ]
     },
     "execution_count": 6,
     "metadata": {},
     "output_type": "execute_result"
    }
   ],
   "source": [
    "X_scl_trn.shape[1]"
   ]
  },
  {
   "cell_type": "code",
   "execution_count": 7,
   "metadata": {
    "executionInfo": {
     "elapsed": 791,
     "status": "ok",
     "timestamp": 1683179820324,
     "user": {
      "displayName": "Sanjay Sane",
      "userId": "07643709861745318184"
     },
     "user_tz": -330
    },
    "id": "XM5CLc5DDtua"
   },
   "outputs": [],
   "source": [
    "torch.manual_seed(23)\n",
    "# Create a model\n",
    "model = nn.Sequential(nn.Linear(in_features=X_scl_trn.shape[1], out_features=5),\n",
    "                      nn.ReLU(),\n",
    "                      nn.Linear(5, 3),\n",
    "                      nn.ReLU(),\n",
    "                      nn.Linear(3,1))"
   ]
  },
  {
   "cell_type": "code",
   "execution_count": 8,
   "metadata": {
    "colab": {
     "base_uri": "https://localhost:8080/"
    },
    "executionInfo": {
     "elapsed": 5,
     "status": "ok",
     "timestamp": 1683180046576,
     "user": {
      "displayName": "Sanjay Sane",
      "userId": "07643709861745318184"
     },
     "user_tz": -330
    },
    "id": "HvVACcd9Dtuc",
    "outputId": "aa120230-79ac-45f2-ee69-089b43c3b916"
   },
   "outputs": [
    {
     "data": {
      "text/plain": [
       "Adam (\n",
       "Parameter Group 0\n",
       "    amsgrad: False\n",
       "    betas: (0.9, 0.999)\n",
       "    capturable: False\n",
       "    differentiable: False\n",
       "    eps: 1e-08\n",
       "    foreach: None\n",
       "    fused: None\n",
       "    lr: 0.001\n",
       "    maximize: False\n",
       "    weight_decay: 0\n",
       ")"
      ]
     },
     "execution_count": 8,
     "metadata": {},
     "output_type": "execute_result"
    }
   ],
   "source": [
    "criterion = torch.nn.BCEWithLogitsLoss()\n",
    "optimizer = torch.optim.Adam(model.parameters(), lr = 0.001)\n",
    "optimizer"
   ]
  },
  {
   "cell_type": "code",
   "execution_count": 9,
   "metadata": {},
   "outputs": [
    {
     "data": {
      "text/plain": [
       "torch.Size([489])"
      ]
     },
     "execution_count": 9,
     "metadata": {},
     "output_type": "execute_result"
    }
   ],
   "source": [
    "y_torch.size()"
   ]
  },
  {
   "cell_type": "code",
   "execution_count": 10,
   "metadata": {
    "colab": {
     "base_uri": "https://localhost:8080/"
    },
    "executionInfo": {
     "elapsed": 1133,
     "status": "ok",
     "timestamp": 1683180154305,
     "user": {
      "displayName": "Sanjay Sane",
      "userId": "07643709861745318184"
     },
     "user_tz": -330
    },
    "id": "AQuAeAiBDtue",
    "outputId": "404fcc09-37be-4046-a484-4926bf948fe0"
   },
   "outputs": [
    {
     "name": "stdout",
     "output_type": "stream",
     "text": [
      "torch.Size([489, 1])\n",
      "torch.Size([489, 1])\n"
     ]
    }
   ],
   "source": [
    "y_pred = model(X_torch.float())\n",
    "y_torch = y_torch.unsqueeze(1)\n",
    "print(y_torch.shape)\n",
    "print(y_pred.shape)"
   ]
  },
  {
   "cell_type": "code",
   "execution_count": 11,
   "metadata": {
    "colab": {
     "base_uri": "https://localhost:8080/"
    },
    "executionInfo": {
     "elapsed": 5,
     "status": "ok",
     "timestamp": 1683180098091,
     "user": {
      "displayName": "Sanjay Sane",
      "userId": "07643709861745318184"
     },
     "user_tz": -330
    },
    "id": "W-BYrr81WbIN",
    "outputId": "0a6e1571-cb0e-4b0e-c4cf-561d21802e6f"
   },
   "outputs": [
    {
     "data": {
      "text/plain": [
       "tensor([[-0.1439],\n",
       "        [-0.1665],\n",
       "        [-0.1133],\n",
       "        [-0.1675],\n",
       "        [-0.1674]], grad_fn=<SliceBackward0>)"
      ]
     },
     "execution_count": 11,
     "metadata": {},
     "output_type": "execute_result"
    }
   ],
   "source": [
    "y_pred[:5]"
   ]
  },
  {
   "cell_type": "markdown",
   "metadata": {},
   "source": [
    "### Initial Log Loss"
   ]
  },
  {
   "cell_type": "code",
   "execution_count": 12,
   "metadata": {},
   "outputs": [
    {
     "data": {
      "text/plain": [
       "tensor(0.6721, grad_fn=<BinaryCrossEntropyWithLogitsBackward0>)"
      ]
     },
     "execution_count": 12,
     "metadata": {},
     "output_type": "execute_result"
    }
   ],
   "source": [
    "loss = criterion(y_pred, y_torch.float())\n",
    "loss"
   ]
  },
  {
   "cell_type": "code",
   "execution_count": 13,
   "metadata": {
    "colab": {
     "base_uri": "https://localhost:8080/"
    },
    "executionInfo": {
     "elapsed": 5,
     "status": "ok",
     "timestamp": 1683180986915,
     "user": {
      "displayName": "Sanjay Sane",
      "userId": "07643709861745318184"
     },
     "user_tz": -330
    },
    "id": "Vfr6de9mDtuj",
    "outputId": "58ebe732-7c5e-4fbe-8817-1aabc33f86f5"
   },
   "outputs": [
    {
     "data": {
      "text/plain": [
       "torch.Tensor"
      ]
     },
     "execution_count": 13,
     "metadata": {},
     "output_type": "execute_result"
    }
   ],
   "source": [
    "X_torch_test = torch.from_numpy(X_scl_tst)\n",
    "type(X_torch_test)"
   ]
  },
  {
   "cell_type": "markdown",
   "metadata": {},
   "source": [
    "### Training Loop"
   ]
  },
  {
   "cell_type": "code",
   "execution_count": 14,
   "metadata": {
    "colab": {
     "base_uri": "https://localhost:8080/"
    },
    "executionInfo": {
     "elapsed": 4436,
     "status": "ok",
     "timestamp": 1683180802989,
     "user": {
      "displayName": "Sanjay Sane",
      "userId": "07643709861745318184"
     },
     "user_tz": -330
    },
    "id": "ntZuOAASDtug",
    "outputId": "2472ec9e-b97c-4c9c-ce78-12dc2451b3bb"
   },
   "outputs": [
    {
     "name": "stdout",
     "output_type": "stream",
     "text": [
      "epoch:  1  train loss:  0.6720623970031738  test loss: 5.465960702181678\n",
      "epoch:  101  train loss:  0.6343051791191101  test loss: 5.465960702181678\n",
      "epoch:  201  train loss:  0.5309345722198486  test loss: 4.188766431803632\n",
      "epoch:  301  train loss:  0.3515016436576843  test loss: 0.897615006854744\n",
      "epoch:  401  train loss:  0.21151600778102875  test loss: 0.73037209159864\n",
      "epoch:  501  train loss:  0.1479852944612503  test loss: 0.776975717540855\n",
      "epoch:  601  train loss:  0.11719004809856415  test loss: 0.8384654504832422\n",
      "epoch:  701  train loss:  0.09987969696521759  test loss: 0.7711101772137161\n",
      "epoch:  801  train loss:  0.08916476368904114  test loss: 0.7657362466807085\n",
      "epoch:  901  train loss:  0.08208033442497253  test loss: 0.7646388123174692\n"
     ]
    }
   ],
   "source": [
    "for epoch in np.arange(0,1000):\n",
    "       # Forward pass: Compute predicted y by passing x to the model\n",
    "       y_pred_prob = model(X_torch.float())\n",
    "       y_pred_prob_test = model(X_torch_test.float())\n",
    "        \n",
    "       # Compute and print loss\n",
    "       loss = criterion(y_pred_prob, y_torch.float())\n",
    "       tst_loss = log_loss(y_test, y_pred_prob_test.detach().numpy())\n",
    "       if epoch%100 == 0:\n",
    "          print('epoch: ', epoch+1,' train loss: ', loss.item(), \" test loss:\", tst_loss)\n",
    "\n",
    "       # Zero gradients, perform a backward pass, and update the weights.\n",
    "       optimizer.zero_grad()\n",
    "\n",
    "       # perform a backward pass (backpropagation)\n",
    "       loss.backward()\n",
    "\n",
    "       # Update the parameters\n",
    "       optimizer.step()\n",
    "#print('epoch: ', epoch+1,' loss: ', loss.item())"
   ]
  },
  {
   "cell_type": "markdown",
   "metadata": {},
   "source": [
    "### Training Set Log Loss after training loop execution"
   ]
  },
  {
   "cell_type": "code",
   "execution_count": 15,
   "metadata": {},
   "outputs": [
    {
     "data": {
      "text/plain": [
       "tensor(0.0769, grad_fn=<BinaryCrossEntropyWithLogitsBackward0>)"
      ]
     },
     "execution_count": 15,
     "metadata": {},
     "output_type": "execute_result"
    }
   ],
   "source": [
    "loss"
   ]
  },
  {
   "cell_type": "code",
   "execution_count": 32,
   "metadata": {
    "colab": {
     "base_uri": "https://localhost:8080/"
    },
    "executionInfo": {
     "elapsed": 4,
     "status": "ok",
     "timestamp": 1683180987636,
     "user": {
      "displayName": "Sanjay Sane",
      "userId": "07643709861745318184"
     },
     "user_tz": -330
    },
    "id": "BTktES18ZXq0",
    "outputId": "063fc54a-1592-4be3-bcaf-3fa693d859d3"
   },
   "outputs": [
    {
     "data": {
      "text/plain": [
       "torch.Tensor"
      ]
     },
     "execution_count": 32,
     "metadata": {},
     "output_type": "execute_result"
    }
   ],
   "source": [
    "y_wt_sum = model(X_torch_test.float()) # Equivalent predict_proba / predict\n",
    "type(y_wt_sum)"
   ]
  },
  {
   "cell_type": "code",
   "execution_count": 33,
   "metadata": {},
   "outputs": [
    {
     "data": {
      "text/plain": [
       "tensor([[ 5.3576],\n",
       "        [-4.5207],\n",
       "        [-4.5996],\n",
       "        [-4.2323],\n",
       "        [-4.6090]], grad_fn=<SliceBackward0>)"
      ]
     },
     "execution_count": 33,
     "metadata": {},
     "output_type": "execute_result"
    }
   ],
   "source": [
    "y_wt_sum[:5]"
   ]
  },
  {
   "cell_type": "code",
   "execution_count": 34,
   "metadata": {},
   "outputs": [
    {
     "data": {
      "text/plain": [
       "tensor([[0.9953],\n",
       "        [0.0108],\n",
       "        [0.0100],\n",
       "        [0.0143],\n",
       "        [0.0099]], grad_fn=<SliceBackward0>)"
      ]
     },
     "execution_count": 34,
     "metadata": {},
     "output_type": "execute_result"
    }
   ],
   "source": [
    "y_pred_prob = nn.Sigmoid()(y_wt_sum)\n",
    "y_pred_prob[:5]"
   ]
  },
  {
   "cell_type": "code",
   "execution_count": 35,
   "metadata": {
    "colab": {
     "base_uri": "https://localhost:8080/"
    },
    "executionInfo": {
     "elapsed": 3,
     "status": "ok",
     "timestamp": 1683180995720,
     "user": {
      "displayName": "Sanjay Sane",
      "userId": "07643709861745318184"
     },
     "user_tz": -330
    },
    "id": "xbXEZqdvZclG",
    "outputId": "69ac7cab-e7d6-43a8-8b71-7881e87ac78f"
   },
   "outputs": [
    {
     "data": {
      "text/plain": [
       "numpy.ndarray"
      ]
     },
     "execution_count": 35,
     "metadata": {},
     "output_type": "execute_result"
    }
   ],
   "source": [
    "y_pred_prob = y_pred_prob.detach().numpy()\n",
    "type(y_pred_prob)"
   ]
  },
  {
   "cell_type": "code",
   "execution_count": 36,
   "metadata": {
    "colab": {
     "base_uri": "https://localhost:8080/"
    },
    "executionInfo": {
     "elapsed": 4,
     "status": "ok",
     "timestamp": 1683181009893,
     "user": {
      "displayName": "Sanjay Sane",
      "userId": "07643709861745318184"
     },
     "user_tz": -330
    },
    "id": "poJa_B2lZ9jx",
    "outputId": "0dc829e5-de82-46d4-ff0f-d2384f924d76"
   },
   "outputs": [
    {
     "data": {
      "text/plain": [
       "(210, 1)"
      ]
     },
     "execution_count": 36,
     "metadata": {},
     "output_type": "execute_result"
    }
   ],
   "source": [
    "y_pred_prob.shape"
   ]
  },
  {
   "cell_type": "code",
   "execution_count": 37,
   "metadata": {},
   "outputs": [
    {
     "data": {
      "text/plain": [
       "array([[0.99530977],\n",
       "       [0.01076472],\n",
       "       [0.00995564],\n",
       "       [0.01431128],\n",
       "       [0.00986382]], dtype=float32)"
      ]
     },
     "execution_count": 37,
     "metadata": {},
     "output_type": "execute_result"
    }
   ],
   "source": [
    "y_pred_prob[:5]"
   ]
  },
  {
   "cell_type": "code",
   "execution_count": 38,
   "metadata": {
    "colab": {
     "base_uri": "https://localhost:8080/"
    },
    "executionInfo": {
     "elapsed": 3,
     "status": "ok",
     "timestamp": 1683181026552,
     "user": {
      "displayName": "Sanjay Sane",
      "userId": "07643709861745318184"
     },
     "user_tz": -330
    },
    "id": "e5aaoHzMZ3i4",
    "outputId": "00fd278b-2375-421f-b697-4587811df31d"
   },
   "outputs": [
    {
     "data": {
      "text/plain": [
       "(210,)"
      ]
     },
     "execution_count": 38,
     "metadata": {},
     "output_type": "execute_result"
    }
   ],
   "source": [
    "y_pred_prob = y_pred_prob.reshape(y_test.shape[0],)\n",
    "y_pred_prob.shape"
   ]
  },
  {
   "cell_type": "code",
   "execution_count": 39,
   "metadata": {
    "colab": {
     "base_uri": "https://localhost:8080/"
    },
    "executionInfo": {
     "elapsed": 2,
     "status": "ok",
     "timestamp": 1683181035030,
     "user": {
      "displayName": "Sanjay Sane",
      "userId": "07643709861745318184"
     },
     "user_tz": -330
    },
    "id": "NbUKnL7LDtuj",
    "outputId": "d95b4da8-fffb-4764-bb93-ec279d8517be"
   },
   "outputs": [
    {
     "data": {
      "text/plain": [
       "array([1, 0, 0, 0, 0])"
      ]
     },
     "execution_count": 39,
     "metadata": {},
     "output_type": "execute_result"
    }
   ],
   "source": [
    "y_pred = np.where(y_pred_prob >= 0.5,1,0)\n",
    "\n",
    "y_pred[:5]"
   ]
  },
  {
   "cell_type": "markdown",
   "metadata": {},
   "source": [
    "### Test Set Accuracy Score"
   ]
  },
  {
   "cell_type": "code",
   "execution_count": 40,
   "metadata": {
    "colab": {
     "base_uri": "https://localhost:8080/"
    },
    "executionInfo": {
     "elapsed": 1191,
     "status": "ok",
     "timestamp": 1683181041369,
     "user": {
      "displayName": "Sanjay Sane",
      "userId": "07643709861745318184"
     },
     "user_tz": -330
    },
    "id": "z6Xtwll3Dtuk",
    "outputId": "7e332c79-60e1-4206-ea9e-048e54895533"
   },
   "outputs": [
    {
     "name": "stdout",
     "output_type": "stream",
     "text": [
      "0.9571428571428572\n"
     ]
    }
   ],
   "source": [
    "print(accuracy_score(y_test,y_pred))"
   ]
  },
  {
   "cell_type": "markdown",
   "metadata": {},
   "source": [
    "### Test Set Log Loss"
   ]
  },
  {
   "cell_type": "code",
   "execution_count": 41,
   "metadata": {},
   "outputs": [
    {
     "data": {
      "text/plain": [
       "0.127680274027093"
      ]
     },
     "execution_count": 41,
     "metadata": {},
     "output_type": "execute_result"
    }
   ],
   "source": [
    "log_loss(y_test, y_pred_prob)"
   ]
  },
  {
   "cell_type": "code",
   "execution_count": null,
   "metadata": {},
   "outputs": [],
   "source": []
  }
 ],
 "metadata": {
  "accelerator": "GPU",
  "colab": {
   "provenance": []
  },
  "kernelspec": {
   "display_name": "Python 3 (ipykernel)",
   "language": "python",
   "name": "python3"
  },
  "language_info": {
   "codemirror_mode": {
    "name": "ipython",
    "version": 3
   },
   "file_extension": ".py",
   "mimetype": "text/x-python",
   "name": "python",
   "nbconvert_exporter": "python",
   "pygments_lexer": "ipython3",
   "version": "3.11.5"
  }
 },
 "nbformat": 4,
 "nbformat_minor": 1
}
