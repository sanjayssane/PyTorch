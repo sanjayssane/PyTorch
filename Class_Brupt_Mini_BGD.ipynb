{
 "cells": [
  {
   "cell_type": "code",
   "execution_count": 1,
   "metadata": {
    "executionInfo": {
     "elapsed": 5041,
     "status": "ok",
     "timestamp": 1683179469307,
     "user": {
      "displayName": "Sanjay Sane",
      "userId": "07643709861745318184"
     },
     "user_tz": -330
    },
    "id": "vkYFU7wXDtuO"
   },
   "outputs": [],
   "source": [
    "import torch\n",
    "import pandas as pd\n",
    "import numpy as np\n",
    "import torch.nn as nn\n",
    "from sklearn.model_selection import train_test_split \n",
    "from sklearn.metrics import accuracy_score, log_loss\n",
    "from sklearn.preprocessing import MinMaxScaler\n",
    "from torch.utils.data import TensorDataset\n",
    "from torch.utils.data import DataLoader"
   ]
  },
  {
   "cell_type": "code",
   "execution_count": 2,
   "metadata": {
    "colab": {
     "base_uri": "https://localhost:8080/",
     "height": 250
    },
    "executionInfo": {
     "elapsed": 1275,
     "status": "ok",
     "timestamp": 1683179500202,
     "user": {
      "displayName": "Sanjay Sane",
      "userId": "07643709861745318184"
     },
     "user_tz": -330
    },
    "id": "S2EmwO2sDtuV",
    "outputId": "d8bb0752-9828-438f-abf3-4d7663bf8c18"
   },
   "outputs": [
    {
     "data": {
      "text/html": [
       "<div>\n",
       "<style scoped>\n",
       "    .dataframe tbody tr th:only-of-type {\n",
       "        vertical-align: middle;\n",
       "    }\n",
       "\n",
       "    .dataframe tbody tr th {\n",
       "        vertical-align: top;\n",
       "    }\n",
       "\n",
       "    .dataframe thead th {\n",
       "        text-align: right;\n",
       "    }\n",
       "</style>\n",
       "<table border=\"1\" class=\"dataframe\">\n",
       "  <thead>\n",
       "    <tr style=\"text-align: right;\">\n",
       "      <th></th>\n",
       "      <th>D</th>\n",
       "      <th>YR</th>\n",
       "      <th>R1</th>\n",
       "      <th>R2</th>\n",
       "      <th>R3</th>\n",
       "      <th>R4</th>\n",
       "      <th>R5</th>\n",
       "      <th>R6</th>\n",
       "      <th>R7</th>\n",
       "      <th>R8</th>\n",
       "      <th>...</th>\n",
       "      <th>R15</th>\n",
       "      <th>R16</th>\n",
       "      <th>R17</th>\n",
       "      <th>R18</th>\n",
       "      <th>R19</th>\n",
       "      <th>R20</th>\n",
       "      <th>R21</th>\n",
       "      <th>R22</th>\n",
       "      <th>R23</th>\n",
       "      <th>R24</th>\n",
       "    </tr>\n",
       "    <tr>\n",
       "      <th>NO</th>\n",
       "      <th></th>\n",
       "      <th></th>\n",
       "      <th></th>\n",
       "      <th></th>\n",
       "      <th></th>\n",
       "      <th></th>\n",
       "      <th></th>\n",
       "      <th></th>\n",
       "      <th></th>\n",
       "      <th></th>\n",
       "      <th></th>\n",
       "      <th></th>\n",
       "      <th></th>\n",
       "      <th></th>\n",
       "      <th></th>\n",
       "      <th></th>\n",
       "      <th></th>\n",
       "      <th></th>\n",
       "      <th></th>\n",
       "      <th></th>\n",
       "      <th></th>\n",
       "    </tr>\n",
       "  </thead>\n",
       "  <tbody>\n",
       "    <tr>\n",
       "      <th>1</th>\n",
       "      <td>0</td>\n",
       "      <td>78</td>\n",
       "      <td>0.23</td>\n",
       "      <td>0.08</td>\n",
       "      <td>0.02</td>\n",
       "      <td>0.03</td>\n",
       "      <td>0.46</td>\n",
       "      <td>0.12</td>\n",
       "      <td>0.19</td>\n",
       "      <td>10.36</td>\n",
       "      <td>...</td>\n",
       "      <td>0.05</td>\n",
       "      <td>0.57</td>\n",
       "      <td>0.15</td>\n",
       "      <td>0.23</td>\n",
       "      <td>3.56</td>\n",
       "      <td>0.26</td>\n",
       "      <td>1.55</td>\n",
       "      <td>0.43</td>\n",
       "      <td>0.11</td>\n",
       "      <td>0.17</td>\n",
       "    </tr>\n",
       "    <tr>\n",
       "      <th>2</th>\n",
       "      <td>0</td>\n",
       "      <td>77</td>\n",
       "      <td>0.19</td>\n",
       "      <td>0.07</td>\n",
       "      <td>0.09</td>\n",
       "      <td>0.12</td>\n",
       "      <td>0.02</td>\n",
       "      <td>0.02</td>\n",
       "      <td>0.03</td>\n",
       "      <td>3.13</td>\n",
       "      <td>...</td>\n",
       "      <td>0.09</td>\n",
       "      <td>0.12</td>\n",
       "      <td>0.16</td>\n",
       "      <td>0.22</td>\n",
       "      <td>3.78</td>\n",
       "      <td>1.29</td>\n",
       "      <td>1.40</td>\n",
       "      <td>0.06</td>\n",
       "      <td>0.07</td>\n",
       "      <td>0.10</td>\n",
       "    </tr>\n",
       "    <tr>\n",
       "      <th>3</th>\n",
       "      <td>0</td>\n",
       "      <td>72</td>\n",
       "      <td>0.07</td>\n",
       "      <td>0.02</td>\n",
       "      <td>0.03</td>\n",
       "      <td>0.05</td>\n",
       "      <td>0.06</td>\n",
       "      <td>0.10</td>\n",
       "      <td>0.14</td>\n",
       "      <td>2.41</td>\n",
       "      <td>...</td>\n",
       "      <td>-0.03</td>\n",
       "      <td>0.02</td>\n",
       "      <td>0.02</td>\n",
       "      <td>0.04</td>\n",
       "      <td>13.29</td>\n",
       "      <td>1.61</td>\n",
       "      <td>1.43</td>\n",
       "      <td>0.03</td>\n",
       "      <td>0.05</td>\n",
       "      <td>0.07</td>\n",
       "    </tr>\n",
       "  </tbody>\n",
       "</table>\n",
       "<p>3 rows × 26 columns</p>\n",
       "</div>"
      ],
      "text/plain": [
       "    D  YR    R1    R2    R3    R4    R5    R6    R7     R8  ...   R15   R16  \\\n",
       "NO                                                          ...               \n",
       "1   0  78  0.23  0.08  0.02  0.03  0.46  0.12  0.19  10.36  ...  0.05  0.57   \n",
       "2   0  77  0.19  0.07  0.09  0.12  0.02  0.02  0.03   3.13  ...  0.09  0.12   \n",
       "3   0  72  0.07  0.02  0.03  0.05  0.06  0.10  0.14   2.41  ... -0.03  0.02   \n",
       "\n",
       "     R17   R18    R19   R20   R21   R22   R23   R24  \n",
       "NO                                                   \n",
       "1   0.15  0.23   3.56  0.26  1.55  0.43  0.11  0.17  \n",
       "2   0.16  0.22   3.78  1.29  1.40  0.06  0.07  0.10  \n",
       "3   0.02  0.04  13.29  1.61  1.43  0.03  0.05  0.07  \n",
       "\n",
       "[3 rows x 26 columns]"
      ]
     },
     "execution_count": 2,
     "metadata": {},
     "output_type": "execute_result"
    }
   ],
   "source": [
    "brupt = pd.read_csv(\"C:/Training/Academy/Statistics (Python)/Cases/Bankruptcy/Bankruptcy.csv\",\n",
    "                   index_col=0)\n",
    "brupt.head(3)"
   ]
  },
  {
   "cell_type": "code",
   "execution_count": 3,
   "metadata": {
    "executionInfo": {
     "elapsed": 1285,
     "status": "ok",
     "timestamp": 1683179502308,
     "user": {
      "displayName": "Sanjay Sane",
      "userId": "07643709861745318184"
     },
     "user_tz": -330
    },
    "id": "EGEz_Td9DtuX"
   },
   "outputs": [],
   "source": [
    "X = brupt.drop(['D','YR'], axis=1).values\n",
    "y = brupt['D'].values\n",
    "scaler = MinMaxScaler()\n",
    "X_train, X_test, y_train, y_test = train_test_split(X, y, test_size = 0.3, \n",
    "                                                    random_state=24,stratify=y)\n",
    "X_scl_trn = scaler.fit_transform(X_train) \n",
    "X_scl_tst = scaler.transform(X_test) "
   ]
  },
  {
   "cell_type": "code",
   "execution_count": 4,
   "metadata": {
    "colab": {
     "base_uri": "https://localhost:8080/"
    },
    "executionInfo": {
     "elapsed": 3,
     "status": "ok",
     "timestamp": 1683180139474,
     "user": {
      "displayName": "Sanjay Sane",
      "userId": "07643709861745318184"
     },
     "user_tz": -330
    },
    "id": "VxWSobXXDtuY",
    "outputId": "2362778d-49d1-434a-a5f2-9827f9fdc86c"
   },
   "outputs": [
    {
     "name": "stdout",
     "output_type": "stream",
     "text": [
      "torch.Size([92, 24])\n",
      "torch.Size([92])\n"
     ]
    }
   ],
   "source": [
    "X_torch = torch.from_numpy(X_scl_trn)\n",
    "y_torch = torch.from_numpy(y_train)\n",
    "print(X_torch.size())\n",
    "print(y_torch.size())"
   ]
  },
  {
   "cell_type": "code",
   "execution_count": 5,
   "metadata": {
    "colab": {
     "base_uri": "https://localhost:8080/"
    },
    "executionInfo": {
     "elapsed": 6,
     "status": "ok",
     "timestamp": 1683179625180,
     "user": {
      "displayName": "Sanjay Sane",
      "userId": "07643709861745318184"
     },
     "user_tz": -330
    },
    "id": "ptj_BzbAUptu",
    "outputId": "74172e39-52ae-43c9-84c9-260664940dc7"
   },
   "outputs": [
    {
     "data": {
      "text/plain": [
       "24"
      ]
     },
     "execution_count": 5,
     "metadata": {},
     "output_type": "execute_result"
    }
   ],
   "source": [
    "X_scl_trn.shape[1]"
   ]
  },
  {
   "cell_type": "code",
   "execution_count": 6,
   "metadata": {
    "executionInfo": {
     "elapsed": 791,
     "status": "ok",
     "timestamp": 1683179820324,
     "user": {
      "displayName": "Sanjay Sane",
      "userId": "07643709861745318184"
     },
     "user_tz": -330
    },
    "id": "XM5CLc5DDtua"
   },
   "outputs": [],
   "source": [
    "torch.manual_seed(24)\n",
    "# Create a model\n",
    "model = nn.Sequential(nn.Linear(in_features=X_scl_trn.shape[1], out_features=15),\n",
    "                      nn.ReLU(),\n",
    "                      nn.Linear(15, 7),\n",
    "                      nn.ReLU(),\n",
    "                      nn.Linear(7,1))"
   ]
  },
  {
   "cell_type": "code",
   "execution_count": 7,
   "metadata": {
    "colab": {
     "base_uri": "https://localhost:8080/"
    },
    "executionInfo": {
     "elapsed": 5,
     "status": "ok",
     "timestamp": 1683180046576,
     "user": {
      "displayName": "Sanjay Sane",
      "userId": "07643709861745318184"
     },
     "user_tz": -330
    },
    "id": "HvVACcd9Dtuc",
    "outputId": "aa120230-79ac-45f2-ee69-089b43c3b916"
   },
   "outputs": [],
   "source": [
    "criterion = torch.nn.BCEWithLogitsLoss()\n",
    "optimizer = torch.optim.Adam(model.parameters(), lr = 0.001)"
   ]
  },
  {
   "cell_type": "code",
   "execution_count": 8,
   "metadata": {},
   "outputs": [
    {
     "data": {
      "text/plain": [
       "torch.Size([92])"
      ]
     },
     "execution_count": 8,
     "metadata": {},
     "output_type": "execute_result"
    }
   ],
   "source": [
    "y_torch.size()"
   ]
  },
  {
   "cell_type": "code",
   "execution_count": 9,
   "metadata": {
    "colab": {
     "base_uri": "https://localhost:8080/"
    },
    "executionInfo": {
     "elapsed": 1133,
     "status": "ok",
     "timestamp": 1683180154305,
     "user": {
      "displayName": "Sanjay Sane",
      "userId": "07643709861745318184"
     },
     "user_tz": -330
    },
    "id": "AQuAeAiBDtue",
    "outputId": "404fcc09-37be-4046-a484-4926bf948fe0"
   },
   "outputs": [
    {
     "name": "stdout",
     "output_type": "stream",
     "text": [
      "torch.Size([92, 1])\n",
      "torch.Size([92, 1])\n"
     ]
    }
   ],
   "source": [
    "y_pred = model(X_torch.float())\n",
    "y_torch = y_torch.unsqueeze(1)\n",
    "print(y_torch.shape)\n",
    "print(y_pred.shape)"
   ]
  },
  {
   "cell_type": "markdown",
   "metadata": {},
   "source": [
    "### Initial Log Loss"
   ]
  },
  {
   "cell_type": "code",
   "execution_count": 10,
   "metadata": {},
   "outputs": [
    {
     "data": {
      "text/plain": [
       "tensor(0.7081, grad_fn=<BinaryCrossEntropyWithLogitsBackward0>)"
      ]
     },
     "execution_count": 10,
     "metadata": {},
     "output_type": "execute_result"
    }
   ],
   "source": [
    "loss = criterion(y_pred, y_torch.float())\n",
    "loss"
   ]
  },
  {
   "cell_type": "code",
   "execution_count": 11,
   "metadata": {
    "colab": {
     "base_uri": "https://localhost:8080/"
    },
    "executionInfo": {
     "elapsed": 5,
     "status": "ok",
     "timestamp": 1683180986915,
     "user": {
      "displayName": "Sanjay Sane",
      "userId": "07643709861745318184"
     },
     "user_tz": -330
    },
    "id": "Vfr6de9mDtuj",
    "outputId": "58ebe732-7c5e-4fbe-8817-1aabc33f86f5"
   },
   "outputs": [
    {
     "data": {
      "text/plain": [
       "torch.Tensor"
      ]
     },
     "execution_count": 11,
     "metadata": {},
     "output_type": "execute_result"
    }
   ],
   "source": [
    "X_torch_test = torch.from_numpy(X_scl_tst)\n",
    "type(X_torch_test)"
   ]
  },
  {
   "cell_type": "code",
   "execution_count": 12,
   "metadata": {
    "colab": {
     "base_uri": "https://localhost:8080/"
    },
    "executionInfo": {
     "elapsed": 2,
     "status": "ok",
     "timestamp": 1683179508131,
     "user": {
      "displayName": "Sanjay Sane",
      "userId": "07643709861745318184"
     },
     "user_tz": -330
    },
    "id": "PH1DSCQy-EXU",
    "outputId": "dee3d4a3-e0b5-4116-fad0-2c1765b92927"
   },
   "outputs": [],
   "source": [
    "torch.manual_seed(24)\n",
    "joint_dataset = TensorDataset(X_torch.float(), y_torch.float())\n",
    "data_loader = DataLoader(dataset=joint_dataset, batch_size=16, shuffle=True)\n"
   ]
  },
  {
   "cell_type": "markdown",
   "metadata": {},
   "source": [
    "### Training Loop"
   ]
  },
  {
   "cell_type": "code",
   "execution_count": 13,
   "metadata": {
    "colab": {
     "base_uri": "https://localhost:8080/"
    },
    "executionInfo": {
     "elapsed": 4436,
     "status": "ok",
     "timestamp": 1683180802989,
     "user": {
      "displayName": "Sanjay Sane",
      "userId": "07643709861745318184"
     },
     "user_tz": -330
    },
    "id": "ntZuOAASDtug",
    "outputId": "2472ec9e-b97c-4c9c-ce78-12dc2451b3bb"
   },
   "outputs": [
    {
     "name": "stdout",
     "output_type": "stream",
     "text": [
      "epoch:  1  loss:  0.7600958943367004\n",
      "epoch:  11  loss:  0.6729137301445007\n",
      "epoch:  21  loss:  0.7127839922904968\n",
      "epoch:  31  loss:  0.6517526507377625\n",
      "epoch:  41  loss:  0.6317514777183533\n",
      "epoch:  51  loss:  0.5531493425369263\n",
      "epoch:  61  loss:  0.4423169791698456\n",
      "epoch:  71  loss:  0.3217153549194336\n",
      "epoch:  81  loss:  0.33349838852882385\n",
      "epoch:  91  loss:  0.4703536927700043\n"
     ]
    }
   ],
   "source": [
    "\n",
    "for epoch in np.arange(0,100):\n",
    "   for i, batch in enumerate(data_loader, 1):\n",
    "      # Forward pass: Compute predicted y by passing x to the model\n",
    "      y_pred_prob = model(batch[0].float())\n",
    "\n",
    "      # Compute and print loss\n",
    "      loss = criterion(y_pred_prob, batch[1].view(-1,1).float())\n",
    "      \n",
    "\n",
    "      # Zero gradients, perform a backward pass, and update the weights.\n",
    "      optimizer.zero_grad()\n",
    "\n",
    "      # perform a backward pass (backpropagation)\n",
    "      loss.backward()\n",
    "\n",
    "      # Update the parameters\n",
    "      optimizer.step()\n",
    "   if epoch%10 == 0:\n",
    "       print('epoch: ', epoch+1,' loss: ', loss.item())"
   ]
  },
  {
   "cell_type": "markdown",
   "metadata": {},
   "source": [
    "### Training Set Log Loss after training loop execution"
   ]
  },
  {
   "cell_type": "code",
   "execution_count": 14,
   "metadata": {},
   "outputs": [
    {
     "data": {
      "text/plain": [
       "tensor(0.4893, grad_fn=<BinaryCrossEntropyWithLogitsBackward0>)"
      ]
     },
     "execution_count": 14,
     "metadata": {},
     "output_type": "execute_result"
    }
   ],
   "source": [
    "loss"
   ]
  },
  {
   "cell_type": "code",
   "execution_count": 15,
   "metadata": {
    "colab": {
     "base_uri": "https://localhost:8080/"
    },
    "executionInfo": {
     "elapsed": 4,
     "status": "ok",
     "timestamp": 1683180987636,
     "user": {
      "displayName": "Sanjay Sane",
      "userId": "07643709861745318184"
     },
     "user_tz": -330
    },
    "id": "BTktES18ZXq0",
    "outputId": "063fc54a-1592-4be3-bcaf-3fa693d859d3"
   },
   "outputs": [
    {
     "data": {
      "text/plain": [
       "torch.Tensor"
      ]
     },
     "execution_count": 15,
     "metadata": {},
     "output_type": "execute_result"
    }
   ],
   "source": [
    "y_wt_sum = model(X_torch_test.float()) # Equivalent predict_proba / predict\n",
    "type(y_wt_sum)"
   ]
  },
  {
   "cell_type": "code",
   "execution_count": 16,
   "metadata": {},
   "outputs": [
    {
     "data": {
      "text/plain": [
       "tensor([[-0.4715],\n",
       "        [-1.5316],\n",
       "        [ 2.7476],\n",
       "        [-1.0996],\n",
       "        [ 2.4680]], grad_fn=<SliceBackward0>)"
      ]
     },
     "execution_count": 16,
     "metadata": {},
     "output_type": "execute_result"
    }
   ],
   "source": [
    "y_wt_sum[:5]"
   ]
  },
  {
   "cell_type": "code",
   "execution_count": 17,
   "metadata": {},
   "outputs": [
    {
     "data": {
      "text/plain": [
       "tensor([[0.3843],\n",
       "        [0.1778],\n",
       "        [0.9398],\n",
       "        [0.2498],\n",
       "        [0.9219]], grad_fn=<SliceBackward0>)"
      ]
     },
     "execution_count": 17,
     "metadata": {},
     "output_type": "execute_result"
    }
   ],
   "source": [
    "y_pred_prob = nn.Sigmoid()(y_wt_sum)\n",
    "y_pred_prob[:5]"
   ]
  },
  {
   "cell_type": "code",
   "execution_count": 18,
   "metadata": {
    "colab": {
     "base_uri": "https://localhost:8080/"
    },
    "executionInfo": {
     "elapsed": 3,
     "status": "ok",
     "timestamp": 1683180995720,
     "user": {
      "displayName": "Sanjay Sane",
      "userId": "07643709861745318184"
     },
     "user_tz": -330
    },
    "id": "xbXEZqdvZclG",
    "outputId": "69ac7cab-e7d6-43a8-8b71-7881e87ac78f"
   },
   "outputs": [
    {
     "data": {
      "text/plain": [
       "numpy.ndarray"
      ]
     },
     "execution_count": 18,
     "metadata": {},
     "output_type": "execute_result"
    }
   ],
   "source": [
    "y_pred_prob = y_pred_prob.detach().numpy()\n",
    "type(y_pred_prob)"
   ]
  },
  {
   "cell_type": "code",
   "execution_count": 19,
   "metadata": {
    "colab": {
     "base_uri": "https://localhost:8080/"
    },
    "executionInfo": {
     "elapsed": 4,
     "status": "ok",
     "timestamp": 1683181009893,
     "user": {
      "displayName": "Sanjay Sane",
      "userId": "07643709861745318184"
     },
     "user_tz": -330
    },
    "id": "poJa_B2lZ9jx",
    "outputId": "0dc829e5-de82-46d4-ff0f-d2384f924d76"
   },
   "outputs": [
    {
     "data": {
      "text/plain": [
       "(40, 1)"
      ]
     },
     "execution_count": 19,
     "metadata": {},
     "output_type": "execute_result"
    }
   ],
   "source": [
    "y_pred_prob.shape"
   ]
  },
  {
   "cell_type": "code",
   "execution_count": 20,
   "metadata": {},
   "outputs": [
    {
     "data": {
      "text/plain": [
       "array([[0.38425148],\n",
       "       [0.17776191],\n",
       "       [0.93977886],\n",
       "       [0.24981613],\n",
       "       [0.9218701 ]], dtype=float32)"
      ]
     },
     "execution_count": 20,
     "metadata": {},
     "output_type": "execute_result"
    }
   ],
   "source": [
    "y_pred_prob[:5]"
   ]
  },
  {
   "cell_type": "code",
   "execution_count": 21,
   "metadata": {
    "colab": {
     "base_uri": "https://localhost:8080/"
    },
    "executionInfo": {
     "elapsed": 3,
     "status": "ok",
     "timestamp": 1683181026552,
     "user": {
      "displayName": "Sanjay Sane",
      "userId": "07643709861745318184"
     },
     "user_tz": -330
    },
    "id": "e5aaoHzMZ3i4",
    "outputId": "00fd278b-2375-421f-b697-4587811df31d"
   },
   "outputs": [
    {
     "data": {
      "text/plain": [
       "(40,)"
      ]
     },
     "execution_count": 21,
     "metadata": {},
     "output_type": "execute_result"
    }
   ],
   "source": [
    "y_pred_prob = y_pred_prob.reshape(y_test.shape[0],)\n",
    "y_pred_prob.shape"
   ]
  },
  {
   "cell_type": "code",
   "execution_count": 22,
   "metadata": {
    "colab": {
     "base_uri": "https://localhost:8080/"
    },
    "executionInfo": {
     "elapsed": 2,
     "status": "ok",
     "timestamp": 1683181035030,
     "user": {
      "displayName": "Sanjay Sane",
      "userId": "07643709861745318184"
     },
     "user_tz": -330
    },
    "id": "NbUKnL7LDtuj",
    "outputId": "d95b4da8-fffb-4764-bb93-ec279d8517be"
   },
   "outputs": [
    {
     "data": {
      "text/plain": [
       "array([0, 0, 1, 0, 1])"
      ]
     },
     "execution_count": 22,
     "metadata": {},
     "output_type": "execute_result"
    }
   ],
   "source": [
    "y_pred = np.where(y_pred_prob >= 0.5,1,0)\n",
    "\n",
    "y_pred[:5]"
   ]
  },
  {
   "cell_type": "markdown",
   "metadata": {},
   "source": [
    "### Test Set Accuracy Score"
   ]
  },
  {
   "cell_type": "code",
   "execution_count": 23,
   "metadata": {
    "colab": {
     "base_uri": "https://localhost:8080/"
    },
    "executionInfo": {
     "elapsed": 1191,
     "status": "ok",
     "timestamp": 1683181041369,
     "user": {
      "displayName": "Sanjay Sane",
      "userId": "07643709861745318184"
     },
     "user_tz": -330
    },
    "id": "z6Xtwll3Dtuk",
    "outputId": "7e332c79-60e1-4206-ea9e-048e54895533"
   },
   "outputs": [
    {
     "name": "stdout",
     "output_type": "stream",
     "text": [
      "0.775\n"
     ]
    }
   ],
   "source": [
    "print(accuracy_score(y_test,y_pred))"
   ]
  },
  {
   "cell_type": "markdown",
   "metadata": {},
   "source": [
    "### Test Set Log Loss"
   ]
  },
  {
   "cell_type": "code",
   "execution_count": 24,
   "metadata": {},
   "outputs": [
    {
     "data": {
      "text/plain": [
       "0.6148759083684415"
      ]
     },
     "execution_count": 24,
     "metadata": {},
     "output_type": "execute_result"
    }
   ],
   "source": [
    "log_loss(y_test, y_pred_prob)"
   ]
  },
  {
   "cell_type": "code",
   "execution_count": null,
   "metadata": {},
   "outputs": [],
   "source": []
  }
 ],
 "metadata": {
  "accelerator": "GPU",
  "colab": {
   "provenance": []
  },
  "kernelspec": {
   "display_name": "Python 3 (ipykernel)",
   "language": "python",
   "name": "python3"
  },
  "language_info": {
   "codemirror_mode": {
    "name": "ipython",
    "version": 3
   },
   "file_extension": ".py",
   "mimetype": "text/x-python",
   "name": "python",
   "nbconvert_exporter": "python",
   "pygments_lexer": "ipython3",
   "version": "3.11.5"
  }
 },
 "nbformat": 4,
 "nbformat_minor": 1
}
